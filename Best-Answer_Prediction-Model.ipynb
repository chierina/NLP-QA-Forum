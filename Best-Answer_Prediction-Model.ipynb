{
 "cells": [
  {
   "cell_type": "code",
   "execution_count": 148,
   "metadata": {},
   "outputs": [],
   "source": [
    "import re\n",
    "import pickle\n",
    "import numpy as np\n",
    "import pandas as pd\n",
    "pd.set_option('display.max_columns', None)\n",
    "from functools import partialmethod\n",
    "pd.DataFrame.head = partialmethod(pd.DataFrame.head, n=2)\n",
    "from gensim.corpora import Dictionary\n",
    "from sklearn import preprocessing\n",
    "from collections import Counter\n",
    "from sklearn.preprocessing import OneHotEncoder, LabelEncoder\n",
    "from nltk.stem import PorterStemmer\n",
    "import matplotlib.pyplot as plt\n",
    "%matplotlib inline\n",
    "import seaborn as sns\n",
    "import warnings\n",
    "with warnings.catch_warnings():\n",
    "    warnings.simplefilter(\"ignore\")\n",
    "from bs4 import BeautifulSoup\n",
    "import html as ihtml\n",
    "import nltk\n",
    "from nltk import sent_tokenize\n",
    "from nltk.tokenize import word_tokenize\n",
    "from nltk.corpus import stopwords\n",
    "import string\n",
    "from gensim.models.word2vec import Word2Vec\n",
    "from sklearn.model_selection import train_test_split\n",
    "from xgboost import XGBClassifier, plot_importance\n",
    "from tensorflow.python.keras.models import Sequential\n",
    "from tensorflow.python.keras.layers import Dense\n",
    "from tensorflow.keras import optimizers\n",
    "from sklearn.model_selection import train_test_split\n",
    "from sklearn.metrics import auc, roc_auc_score, plot_roc_curve, classification_report"
   ]
  },
  {
   "cell_type": "code",
   "execution_count": 3,
   "metadata": {},
   "outputs": [],
   "source": [
    "# 18 fields expected.\n",
    "field_names = ['id', 'type', 'is_best_answer', 'topic_id', 'parent_id', 'votes',\n",
    "               'title', 'content', 'member', 'category', 'state', 'is_solved', 'num_answers',\n",
    "               'country', 'date', 'last_answer_date', 'author_crc', 'visits']\n",
    "\n",
    "\n",
    "txt_path = \"export-forums_en.csv\"\n",
    "entity_path = \"export-forums_en.pickle\"\n",
    "csv_path = \"export-forums_en.format.csv\"\n",
    "data_path = \"\"\n",
    "\n",
    "def format_entities():\n",
    "    '''\n",
    "    Read the raw data, format the list of entities, serialize them.\n",
    "    '''\n",
    "\n",
    "    def build_entities(txt_path, max_entities=None):\n",
    "        '''\n",
    "        Return a list of structured entities from raw txt file.\n",
    "        '''\n",
    "        # Read text file.\n",
    "        with open(txt_path, 'r', encoding='utf8') as f:\n",
    "            # Entities and current entity.\n",
    "            entities, entity = [], {}\n",
    "            # Entity values might be split over lines\n",
    "            field_counter = 0\n",
    "            # Process lines\n",
    "            for line in f:\n",
    "                # Change value\n",
    "                line = line.replace(\"\\\\N\", '\"unkwown\"')\n",
    "                # Char start for extracted value.\n",
    "                char_start = 1\n",
    "                # Find values separators\n",
    "                field_index = [m.start() for m in re.finditer('\",\"', line)]\n",
    "                # Browse value separators.\n",
    "                for index in field_index:\n",
    "                    # Extract in between value.\n",
    "                    value = line[char_start:index]\n",
    "                    # Update start index.\n",
    "                    char_start = index + 3\n",
    "                    # Update field counter.\n",
    "                    field_counter += 1\n",
    "                    # Update entity value.\n",
    "                    try:\n",
    "                        entity[field_names[field_counter-1]] += value\n",
    "                    except KeyError:\n",
    "                        entity[field_names[field_counter-1]] = value\n",
    "                    except IndexError:\n",
    "                        entity = {}\n",
    "                        field_counter = 0\n",
    "                # Content string is split.\n",
    "                if field_counter == 7 and len(field_index) > 0:\n",
    "                    entity[field_names[7]] = line[field_index[-1]:]\n",
    "                    continue\n",
    "                # Next content string.\n",
    "                if field_counter == 7 and len(field_index) == 0:\n",
    "                    entity[field_names[7]] += line\n",
    "                    continue\n",
    "                # Next entity.\n",
    "                if len(entity) == 17:\n",
    "                    field_counter = 0\n",
    "                    entities.append(entity)\n",
    "                    entity = {}\n",
    "                    if max_entities is not None:\n",
    "                        if len(entities) > max_entities:\n",
    "                            return entities\n",
    "        return entities\n",
    "\n",
    "    # Write entities on disk.\n",
    "    with open(entity_path, 'wb') as f:\n",
    "        pickle.dump(build_entities(txt_path=txt_path, max_entities=None), f)"
   ]
  },
  {
   "cell_type": "code",
   "execution_count": 31,
   "metadata": {},
   "outputs": [],
   "source": [
    "format_entities()"
   ]
  },
  {
   "cell_type": "markdown",
   "metadata": {},
   "source": [
    "# 1. Data Exploration"
   ]
  },
  {
   "cell_type": "code",
   "execution_count": 4,
   "metadata": {},
   "outputs": [
    {
     "name": "stdout",
     "output_type": "stream",
     "text": [
      "(715516, 17)\n"
     ]
    },
    {
     "data": {
      "text/html": [
       "<div>\n",
       "<style scoped>\n",
       "    .dataframe tbody tr th:only-of-type {\n",
       "        vertical-align: middle;\n",
       "    }\n",
       "\n",
       "    .dataframe tbody tr th {\n",
       "        vertical-align: top;\n",
       "    }\n",
       "\n",
       "    .dataframe thead th {\n",
       "        text-align: right;\n",
       "    }\n",
       "</style>\n",
       "<table border=\"1\" class=\"dataframe\">\n",
       "  <thead>\n",
       "    <tr style=\"text-align: right;\">\n",
       "      <th></th>\n",
       "      <th>id</th>\n",
       "      <th>type</th>\n",
       "      <th>is_best_answer</th>\n",
       "      <th>topic_id</th>\n",
       "      <th>parent_id</th>\n",
       "      <th>votes</th>\n",
       "      <th>title</th>\n",
       "      <th>content</th>\n",
       "      <th>member</th>\n",
       "      <th>category</th>\n",
       "      <th>state</th>\n",
       "      <th>is_solved</th>\n",
       "      <th>num_answers</th>\n",
       "      <th>country</th>\n",
       "      <th>date</th>\n",
       "      <th>last_answer_date</th>\n",
       "      <th>author_crc</th>\n",
       "    </tr>\n",
       "  </thead>\n",
       "  <tbody>\n",
       "    <tr>\n",
       "      <td>0</td>\n",
       "      <td>69561</td>\n",
       "      <td>C</td>\n",
       "      <td>0</td>\n",
       "      <td>4</td>\n",
       "      <td>36102</td>\n",
       "      <td>0</td>\n",
       "      <td>Windows Vista to XP Downgrading/Reformat?</td>\n",
       "      <td>&lt;a href='http://paparadit.blogspot.com/2007/06...</td>\n",
       "      <td>0</td>\n",
       "      <td>136</td>\n",
       "      <td>0</td>\n",
       "      <td>1</td>\n",
       "      <td>180</td>\n",
       "      <td>IN</td>\n",
       "      <td>1234889592</td>\n",
       "      <td>1306387514</td>\n",
       "      <td>865612499</td>\n",
       "    </tr>\n",
       "    <tr>\n",
       "      <td>1</td>\n",
       "      <td>587308</td>\n",
       "      <td>C</td>\n",
       "      <td>0</td>\n",
       "      <td>4</td>\n",
       "      <td>17183</td>\n",
       "      <td>0</td>\n",
       "      <td>Windows Vista to XP Downgrading/Reformat?</td>\n",
       "      <td>but my does not have where to off the SATA. wh...</td>\n",
       "      <td>0</td>\n",
       "      <td>136</td>\n",
       "      <td>0</td>\n",
       "      <td>1</td>\n",
       "      <td>180</td>\n",
       "      <td>unkwown</td>\n",
       "      <td>1304428703</td>\n",
       "      <td>1306387514</td>\n",
       "      <td>1949389026</td>\n",
       "    </tr>\n",
       "  </tbody>\n",
       "</table>\n",
       "</div>"
      ],
      "text/plain": [
       "       id type is_best_answer topic_id parent_id votes  \\\n",
       "0   69561    C              0        4     36102     0   \n",
       "1  587308    C              0        4     17183     0   \n",
       "\n",
       "                                       title  \\\n",
       "0  Windows Vista to XP Downgrading/Reformat?   \n",
       "1  Windows Vista to XP Downgrading/Reformat?   \n",
       "\n",
       "                                             content member category state  \\\n",
       "0  <a href='http://paparadit.blogspot.com/2007/06...      0      136     0   \n",
       "1  but my does not have where to off the SATA. wh...      0      136     0   \n",
       "\n",
       "  is_solved num_answers  country        date last_answer_date  author_crc  \n",
       "0         1         180       IN  1234889592       1306387514   865612499  \n",
       "1         1         180  unkwown  1304428703       1306387514  1949389026  "
      ]
     },
     "execution_count": 4,
     "metadata": {},
     "output_type": "execute_result"
    }
   ],
   "source": [
    "with open(entity_path, 'rb') as obj:\n",
    "        entities = pickle.load(obj)\n",
    "df = pd.DataFrame(entities)\n",
    "print(df.shape)\n",
    "df.head()"
   ]
  },
  {
   "cell_type": "code",
   "execution_count": 79,
   "metadata": {},
   "outputs": [
    {
     "data": {
      "text/html": [
       "<div>\n",
       "<style scoped>\n",
       "    .dataframe tbody tr th:only-of-type {\n",
       "        vertical-align: middle;\n",
       "    }\n",
       "\n",
       "    .dataframe tbody tr th {\n",
       "        vertical-align: top;\n",
       "    }\n",
       "\n",
       "    .dataframe thead th {\n",
       "        text-align: right;\n",
       "    }\n",
       "</style>\n",
       "<table border=\"1\" class=\"dataframe\">\n",
       "  <thead>\n",
       "    <tr style=\"text-align: right;\">\n",
       "      <th></th>\n",
       "      <th>Variable Name</th>\n",
       "      <th>Unique Value</th>\n",
       "      <th>Missing Value</th>\n",
       "      <th>Data Type</th>\n",
       "    </tr>\n",
       "  </thead>\n",
       "  <tbody>\n",
       "    <tr>\n",
       "      <td>0</td>\n",
       "      <td>id</td>\n",
       "      <td>715516</td>\n",
       "      <td>0</td>\n",
       "      <td>object</td>\n",
       "    </tr>\n",
       "    <tr>\n",
       "      <td>1</td>\n",
       "      <td>type</td>\n",
       "      <td>3</td>\n",
       "      <td>0</td>\n",
       "      <td>object</td>\n",
       "    </tr>\n",
       "    <tr>\n",
       "      <td>2</td>\n",
       "      <td>is_best_answer</td>\n",
       "      <td>2</td>\n",
       "      <td>0</td>\n",
       "      <td>object</td>\n",
       "    </tr>\n",
       "    <tr>\n",
       "      <td>3</td>\n",
       "      <td>topic_id</td>\n",
       "      <td>264962</td>\n",
       "      <td>0</td>\n",
       "      <td>object</td>\n",
       "    </tr>\n",
       "    <tr>\n",
       "      <td>4</td>\n",
       "      <td>parent_id</td>\n",
       "      <td>248145</td>\n",
       "      <td>0</td>\n",
       "      <td>object</td>\n",
       "    </tr>\n",
       "    <tr>\n",
       "      <td>5</td>\n",
       "      <td>votes</td>\n",
       "      <td>526</td>\n",
       "      <td>0</td>\n",
       "      <td>object</td>\n",
       "    </tr>\n",
       "    <tr>\n",
       "      <td>6</td>\n",
       "      <td>title</td>\n",
       "      <td>220334</td>\n",
       "      <td>0</td>\n",
       "      <td>object</td>\n",
       "    </tr>\n",
       "    <tr>\n",
       "      <td>7</td>\n",
       "      <td>content</td>\n",
       "      <td>652753</td>\n",
       "      <td>0</td>\n",
       "      <td>object</td>\n",
       "    </tr>\n",
       "    <tr>\n",
       "      <td>8</td>\n",
       "      <td>member</td>\n",
       "      <td>4</td>\n",
       "      <td>0</td>\n",
       "      <td>object</td>\n",
       "    </tr>\n",
       "    <tr>\n",
       "      <td>9</td>\n",
       "      <td>category</td>\n",
       "      <td>107</td>\n",
       "      <td>0</td>\n",
       "      <td>object</td>\n",
       "    </tr>\n",
       "    <tr>\n",
       "      <td>10</td>\n",
       "      <td>state</td>\n",
       "      <td>3</td>\n",
       "      <td>0</td>\n",
       "      <td>object</td>\n",
       "    </tr>\n",
       "    <tr>\n",
       "      <td>11</td>\n",
       "      <td>is_solved</td>\n",
       "      <td>2</td>\n",
       "      <td>0</td>\n",
       "      <td>object</td>\n",
       "    </tr>\n",
       "    <tr>\n",
       "      <td>12</td>\n",
       "      <td>num_answers</td>\n",
       "      <td>191</td>\n",
       "      <td>0</td>\n",
       "      <td>object</td>\n",
       "    </tr>\n",
       "    <tr>\n",
       "      <td>13</td>\n",
       "      <td>country</td>\n",
       "      <td>161</td>\n",
       "      <td>0</td>\n",
       "      <td>object</td>\n",
       "    </tr>\n",
       "    <tr>\n",
       "      <td>14</td>\n",
       "      <td>date</td>\n",
       "      <td>698704</td>\n",
       "      <td>0</td>\n",
       "      <td>object</td>\n",
       "    </tr>\n",
       "    <tr>\n",
       "      <td>15</td>\n",
       "      <td>last_answer_date</td>\n",
       "      <td>264325</td>\n",
       "      <td>0</td>\n",
       "      <td>object</td>\n",
       "    </tr>\n",
       "    <tr>\n",
       "      <td>16</td>\n",
       "      <td>author_crc</td>\n",
       "      <td>230923</td>\n",
       "      <td>0</td>\n",
       "      <td>object</td>\n",
       "    </tr>\n",
       "  </tbody>\n",
       "</table>\n",
       "</div>"
      ],
      "text/plain": [
       "       Variable Name  Unique Value  Missing Value Data Type\n",
       "0                 id        715516              0    object\n",
       "1               type             3              0    object\n",
       "2     is_best_answer             2              0    object\n",
       "3           topic_id        264962              0    object\n",
       "4          parent_id        248145              0    object\n",
       "5              votes           526              0    object\n",
       "6              title        220334              0    object\n",
       "7            content        652753              0    object\n",
       "8             member             4              0    object\n",
       "9           category           107              0    object\n",
       "10             state             3              0    object\n",
       "11         is_solved             2              0    object\n",
       "12       num_answers           191              0    object\n",
       "13           country           161              0    object\n",
       "14              date        698704              0    object\n",
       "15  last_answer_date        264325              0    object\n",
       "16        author_crc        230923              0    object"
      ]
     },
     "execution_count": 79,
     "metadata": {},
     "output_type": "execute_result"
    }
   ],
   "source": [
    "table1 = []\n",
    "for col in df.columns:\n",
    "    table1.append((col, df[col].nunique(), df[col].isnull().sum(),  df[col].dtype))\n",
    "    \n",
    "table1_df = pd.DataFrame(table1, columns=['Variable Name', 'Unique Value', 'Missing Value', 'Data Type'])\n",
    "table1_df"
   ]
  },
  {
   "cell_type": "code",
   "execution_count": 6,
   "metadata": {},
   "outputs": [
    {
     "name": "stdout",
     "output_type": "stream",
     "text": [
      "<class 'pandas.core.frame.DataFrame'>\n",
      "RangeIndex: 715516 entries, 0 to 715515\n",
      "Data columns (total 17 columns):\n",
      "id                  715516 non-null object\n",
      "type                715516 non-null object\n",
      "is_best_answer      715516 non-null int64\n",
      "topic_id            715516 non-null int64\n",
      "parent_id           715516 non-null int64\n",
      "votes               715516 non-null int64\n",
      "title               715516 non-null object\n",
      "content             715516 non-null object\n",
      "member              715516 non-null int64\n",
      "category            715516 non-null object\n",
      "state               715516 non-null int64\n",
      "is_solved           715516 non-null int64\n",
      "num_answers         715516 non-null int64\n",
      "country             715516 non-null object\n",
      "date                715516 non-null int64\n",
      "last_answer_date    715516 non-null int64\n",
      "author_crc          715516 non-null int64\n",
      "dtypes: int64(11), object(6)\n",
      "memory usage: 92.8+ MB\n"
     ]
    }
   ],
   "source": [
    "# convert data types\n",
    "num_cols = ['is_best_answer','topic_id','parent_id','votes','member','state',\n",
    "              'is_solved','num_answers','date','last_answer_date','author_crc']\n",
    "df[num_cols] = df[num_cols].apply(pd.to_numeric)\n",
    "df.info()"
   ]
  },
  {
   "cell_type": "code",
   "execution_count": 7,
   "metadata": {},
   "outputs": [
    {
     "data": {
      "text/plain": [
       "array(['C', 'Q', 'A'], dtype=object)"
      ]
     },
     "execution_count": 7,
     "metadata": {},
     "output_type": "execute_result"
    }
   ],
   "source": [
    "df['type'].unique()"
   ]
  },
  {
   "cell_type": "code",
   "execution_count": 8,
   "metadata": {},
   "outputs": [],
   "source": [
    "# separate date by Question and Answer\n",
    "Q = df[df['type']=='Q']\n",
    "A = df[df['type']=='A']\n",
    "C = df[df['type']=='C']"
   ]
  },
  {
   "cell_type": "code",
   "execution_count": 9,
   "metadata": {},
   "outputs": [
    {
     "name": "stdout",
     "output_type": "stream",
     "text": [
      "Questions without answers: 35 %\n"
     ]
    }
   ],
   "source": [
    "# Check if there's any questions without answer\n",
    "print(\"Questions without answers:\", round(len(Q[Q['num_answers'] == 0])/len(Q)*100),'%')"
   ]
  },
  {
   "cell_type": "code",
   "execution_count": 59,
   "metadata": {},
   "outputs": [
    {
     "data": {
      "image/png": "[encoded data removed]",
      "text/plain": [
       "<Figure size 1080x576 with 4 Axes>"
      ]
     },
     "metadata": {
      "needs_background": "light"
     },
     "output_type": "display_data"
    }
   ],
   "source": [
    "# explore question rows\n",
    "\n",
    "plt.subplots(2,2, figsize=(15,8))\n",
    "\n",
    "plt.subplot(2,2,1)\n",
    "sns.countplot(Q['is_solved'])\n",
    "\n",
    "plt.subplot(2,2,2)\n",
    "sns.countplot(Q['is_best_answer'])\n",
    "\n",
    "plt.subplot(2,2,3)\n",
    "# best answer by solved/unsolved questions\n",
    "sns.countplot(x='is_solved',hue='is_best_answer', data=A)\n",
    "\n",
    "plt.subplot(2,2,4) \n",
    "# best answer by member/non-member\n",
    "sns.countplot(x='member', hue='is_best_answer', data=A)\n",
    "\n",
    "plt.tight_layout()"
   ]
  },
  {
   "cell_type": "markdown",
   "metadata": {},
   "source": [
    "Some insights:\n",
    "- Many questions are unsolved.\n",
    "- Many questions are without best answers.\n",
    "- Solved questions != existance of best answers.\n",
    "- Member != more best answers."
   ]
  },
  {
   "cell_type": "markdown",
   "metadata": {},
   "source": [
    "### See the correlation to best answer "
   ]
  },
  {
   "cell_type": "code",
   "execution_count": 85,
   "metadata": {},
   "outputs": [],
   "source": [
    "A_dummy = A.drop(['id','title','content','category','date','last_answer_date','author_crc'], axis=1)\n",
    "A_dummy = pd.get_dummies(A_dummy, drop_first=True)"
   ]
  },
  {
   "cell_type": "code",
   "execution_count": 87,
   "metadata": {},
   "outputs": [
    {
     "data": {
      "text/plain": [
       "is_best_answer      1.000000\n",
       "topic_id           -0.090386\n",
       "parent_id          -0.090386\n",
       "votes               0.158308\n",
       "member              0.024132\n",
       "state               0.134392\n",
       "is_solved           0.127521\n",
       "num_answers        -0.051868\n",
       "date               -0.099104\n",
       "last_answer_date   -0.086181\n",
       "author_crc         -0.002397\n",
       "Name: is_best_answer, dtype: float64"
      ]
     },
     "execution_count": 87,
     "metadata": {},
     "output_type": "execute_result"
    }
   ],
   "source": [
    "A[A.columns[0:]].corr()['is_best_answer'][:]"
   ]
  },
  {
   "cell_type": "markdown",
   "metadata": {},
   "source": [
    "- There are very low correlatons to target variable.\n",
    "- Let's use texts to predict the best answers"
   ]
  },
  {
   "cell_type": "markdown",
   "metadata": {},
   "source": [
    "# 2. Data Cleaning"
   ]
  },
  {
   "cell_type": "markdown",
   "metadata": {},
   "source": [
    "Drop useless columns and calculate the duration from date variables"
   ]
  },
  {
   "cell_type": "code",
   "execution_count": 9,
   "metadata": {},
   "outputs": [],
   "source": [
    "df.drop(['id','topic_id', 'parent_id', 'title', 'author_crc'], axis=1, inplace=True)"
   ]
  },
  {
   "cell_type": "code",
   "execution_count": 10,
   "metadata": {},
   "outputs": [
    {
     "data": {
      "text/html": [
       "<div>\n",
       "<style scoped>\n",
       "    .dataframe tbody tr th:only-of-type {\n",
       "        vertical-align: middle;\n",
       "    }\n",
       "\n",
       "    .dataframe tbody tr th {\n",
       "        vertical-align: top;\n",
       "    }\n",
       "\n",
       "    .dataframe thead th {\n",
       "        text-align: right;\n",
       "    }\n",
       "</style>\n",
       "<table border=\"1\" class=\"dataframe\">\n",
       "  <thead>\n",
       "    <tr style=\"text-align: right;\">\n",
       "      <th></th>\n",
       "      <th>type</th>\n",
       "      <th>is_best_answer</th>\n",
       "      <th>votes</th>\n",
       "      <th>content</th>\n",
       "      <th>member</th>\n",
       "      <th>category</th>\n",
       "      <th>state</th>\n",
       "      <th>is_solved</th>\n",
       "      <th>num_answers</th>\n",
       "      <th>country</th>\n",
       "      <th>duration</th>\n",
       "    </tr>\n",
       "  </thead>\n",
       "  <tbody>\n",
       "    <tr>\n",
       "      <td>0</td>\n",
       "      <td>C</td>\n",
       "      <td>0</td>\n",
       "      <td>0</td>\n",
       "      <td>&lt;a href='http://paparadit.blogspot.com/2007/06...</td>\n",
       "      <td>0</td>\n",
       "      <td>136</td>\n",
       "      <td>0</td>\n",
       "      <td>1</td>\n",
       "      <td>180</td>\n",
       "      <td>IN</td>\n",
       "      <td>71497922</td>\n",
       "    </tr>\n",
       "    <tr>\n",
       "      <td>1</td>\n",
       "      <td>C</td>\n",
       "      <td>0</td>\n",
       "      <td>0</td>\n",
       "      <td>but my does not have where to off the SATA. wh...</td>\n",
       "      <td>0</td>\n",
       "      <td>136</td>\n",
       "      <td>0</td>\n",
       "      <td>1</td>\n",
       "      <td>180</td>\n",
       "      <td>unkwown</td>\n",
       "      <td>1958811</td>\n",
       "    </tr>\n",
       "  </tbody>\n",
       "</table>\n",
       "</div>"
      ],
      "text/plain": [
       "  type  is_best_answer  votes  \\\n",
       "0    C               0      0   \n",
       "1    C               0      0   \n",
       "\n",
       "                                             content  member category  state  \\\n",
       "0  <a href='http://paparadit.blogspot.com/2007/06...       0      136      0   \n",
       "1  but my does not have where to off the SATA. wh...       0      136      0   \n",
       "\n",
       "   is_solved  num_answers  country  duration  \n",
       "0          1          180       IN  71497922  \n",
       "1          1          180  unkwown   1958811  "
      ]
     },
     "execution_count": 10,
     "metadata": {},
     "output_type": "execute_result"
    }
   ],
   "source": [
    "# Calculate the duration from active date\n",
    "df['duration'] = df['last_answer_date'] - df['date']\n",
    "\n",
    "# Drop all the date columns except durations\n",
    "df.drop(['date','last_answer_date'], axis=1, inplace=True)\n",
    "df.head()"
   ]
  },
  {
   "cell_type": "markdown",
   "metadata": {},
   "source": [
    "### Encoding"
   ]
  },
  {
   "cell_type": "code",
   "execution_count": 11,
   "metadata": {},
   "outputs": [],
   "source": [
    "# Label Encoding\n",
    "encoder = preprocessing.LabelEncoder()\n",
    "df['category'] = encoder.fit_transform(df['category'])\n",
    "df['country'] = encoder.fit_transform(df['country'])\n",
    "# OneHot Encoding\n",
    "df['type'] = pd.get_dummies(df['type'], drop_first=True)"
   ]
  },
  {
   "cell_type": "markdown",
   "metadata": {},
   "source": [
    "### Clean text"
   ]
  },
  {
   "cell_type": "code",
   "execution_count": 15,
   "metadata": {},
   "outputs": [],
   "source": [
    "def clean_sentences(sentences):\n",
    "    tokens = []\n",
    "    \n",
    "    for sentence in sentences:\n",
    "        text = re.sub('http.*', '', sentence)\n",
    "        soup = BeautifulSoup(text, 'lxml')\n",
    "        a = soup.get_text()\n",
    "        t = a.strip()\n",
    "        token = word_tokenize(t)\n",
    "        token = [w.lower() for w in token]\n",
    "        table = str.maketrans('', '', string.punctuation)\n",
    "        stripped = [w.translate(table) for w in token]\n",
    "        words = [word for word in stripped if word.isalpha()]\n",
    "        stop_words = set(stopwords.words('english'))\n",
    "        words = [w for w in words if not w in stop_words]\n",
    "        tokens.append(words)\n",
    "\n",
    "    return tokens"
   ]
  },
  {
   "cell_type": "code",
   "execution_count": 16,
   "metadata": {},
   "outputs": [
    {
     "name": "stderr",
     "output_type": "stream",
     "text": [
      "/Users/naitochieri/opt/anaconda3/lib/python3.7/site-packages/bs4/__init__.py:294: UserWarning: \"b'.'\" looks like a filename, not markup. You should probably open this file and pass the filehandle into Beautiful Soup.\n",
      "  ' Beautiful Soup.' % markup)\n",
      "/Users/naitochieri/opt/anaconda3/lib/python3.7/site-packages/bs4/__init__.py:294: UserWarning: \"b'..'\" looks like a filename, not markup. You should probably open this file and pass the filehandle into Beautiful Soup.\n",
      "  ' Beautiful Soup.' % markup)\n",
      "/Users/naitochieri/opt/anaconda3/lib/python3.7/site-packages/bs4/__init__.py:294: UserWarning: \"b'q'\" looks like a filename, not markup. You should probably open this file and pass the filehandle into Beautiful Soup.\n",
      "  ' Beautiful Soup.' % markup)\n",
      "/Users/naitochieri/opt/anaconda3/lib/python3.7/site-packages/bs4/__init__.py:294: UserWarning: \"b'/'\" looks like a filename, not markup. You should probably open this file and pass the filehandle into Beautiful Soup.\n",
      "  ' Beautiful Soup.' % markup)\n",
      "/Users/naitochieri/opt/anaconda3/lib/python3.7/site-packages/bs4/__init__.py:294: UserWarning: \"b'./.'\" looks like a filename, not markup. You should probably open this file and pass the filehandle into Beautiful Soup.\n",
      "  ' Beautiful Soup.' % markup)\n",
      "/Users/naitochieri/opt/anaconda3/lib/python3.7/site-packages/bs4/__init__.py:294: UserWarning: \"b'////'\" looks like a filename, not markup. You should probably open this file and pass the filehandle into Beautiful Soup.\n",
      "  ' Beautiful Soup.' % markup)\n"
     ]
    }
   ],
   "source": [
    "df['content'] = clean_sentences(df['content'])"
   ]
  },
  {
   "cell_type": "code",
   "execution_count": 19,
   "metadata": {},
   "outputs": [],
   "source": [
    "df.to_csv('df_cleaned.csv', index=False)"
   ]
  },
  {
   "cell_type": "markdown",
   "metadata": {},
   "source": [
    "# 3. Embedding"
   ]
  },
  {
   "cell_type": "code",
   "execution_count": 20,
   "metadata": {},
   "outputs": [
    {
     "data": {
      "text/plain": [
       "(715516, 11)"
      ]
     },
     "execution_count": 20,
     "metadata": {},
     "output_type": "execute_result"
    }
   ],
   "source": [
    "df = pd.read_csv('df_cleaned.csv')\n",
    "df.shape"
   ]
  },
  {
   "cell_type": "markdown",
   "metadata": {},
   "source": [
    "### Word2Vec"
   ]
  },
  {
   "cell_type": "code",
   "execution_count": 115,
   "metadata": {},
   "outputs": [
    {
     "name": "stderr",
     "output_type": "stream",
     "text": [
      "/Users/naitochieri/opt/anaconda3/lib/python3.7/site-packages/ipykernel_launcher.py:1: DeprecationWarning: Call to deprecated `__getitem__` (Method will be removed in 4.0.0, use self.wv.__getitem__() instead).\n",
      "  \"\"\"Entry point for launching an IPython kernel.\n"
     ]
    },
    {
     "data": {
      "text/plain": [
       "array([[ 0.13320264,  0.17137007,  0.32646728, ...,  0.11159281,\n",
       "        -0.05239496,  0.09800506],\n",
       "       [-0.04390059,  0.09281673,  0.24007897, ...,  0.11470777,\n",
       "        -0.17819491, -0.20687735],\n",
       "       [-0.08421148,  0.10757275,  0.00295816, ..., -0.09031783,\n",
       "        -0.14897063,  0.00235167],\n",
       "       ...,\n",
       "       [ 0.09052853, -0.0436186 ,  0.15057436, ..., -0.11169223,\n",
       "        -0.16641518,  0.03265886],\n",
       "       [ 0.09871047, -0.02158335,  0.12490938, ..., -0.09042915,\n",
       "        -0.1681223 ,  0.00408205],\n",
       "       [ 0.10138465, -0.02664928,  0.07545383, ..., -0.08208122,\n",
       "        -0.15304162, -0.0042756 ]], dtype=float32)"
      ]
     },
     "execution_count": 115,
     "metadata": {},
     "output_type": "execute_result"
    }
   ],
   "source": [
    "model_w2v = Word2Vec(df['content'], min_count = 1,size = 50,workers = 3, window = 3, sg = 1)\n",
    "model_w2v[model_w2v.wv.vocab]"
   ]
  },
  {
   "cell_type": "code",
   "execution_count": null,
   "metadata": {},
   "outputs": [],
   "source": [
    "def build_word2vec_from_text(model_w2v, sentence, emb_size):\n",
    "    emb_vec = np.zeros(emb_size).reshape((1, emb_size))\n",
    "    count = 0.\n",
    "    for word in sentence:\n",
    "        try:\n",
    "            emb_vec += model_w2v[word].reshape((1, emb_size))\n",
    "            count += 1.\n",
    "        except KeyError:\n",
    "            continue\n",
    "    if count != 0:\n",
    "        emb_vec /= count\n",
    "    return emb_vec\n",
    "\n",
    "df['content'] = np.concatenate([build_word2vec_from_text(model_w2v, d, 50) for d in df['content']], axis=0)"
   ]
  },
  {
   "cell_type": "markdown",
   "metadata": {},
   "source": [
    "### Resampling"
   ]
  },
  {
   "cell_type": "code",
   "execution_count": 117,
   "metadata": {},
   "outputs": [],
   "source": [
    "best = df['is_best_answer'].values\n",
    "y = np.array(best.copy())\n",
    "X = df.drop(columns=['is_best_answer']).values\n",
    "y = (y > 0)*1\n",
    "\n",
    "nb_class = len(set(y))\n",
    "nb_class\n",
    "\n",
    "# create empty arrays for both classes\n",
    "id_Train = np.array([None]*nb_class)\n",
    "id_Test = np.array([None]*nb_class)\n",
    "\n",
    "for i in range(nb_class):\n",
    "    id_i = np.where(y==i)[0]\n",
    "    id_i_train, id_i_test = train_test_split(id_i, test_size=0.3)\n",
    "    id_Train[i] = id_i_train\n",
    "    id_Test[i] = id_i_test\n",
    "    \n",
    "id_Train = np.concatenate(id_Train)\n",
    "id_Test = np.concatenate(id_Test)\n",
    "\n",
    "X_train = X[id_Train]\n",
    "X_test = X[id_Test]\n",
    "y_train = y[id_Train]\n",
    "y_test = y[id_Test]\n",
    "\n",
    "id_toTrain = np.array([np.where(y_train==i)[0] for i in range(nb_class)])"
   ]
  },
  {
   "cell_type": "code",
   "execution_count": 118,
   "metadata": {},
   "outputs": [
    {
     "name": "stdout",
     "output_type": "stream",
     "text": [
      "Before Resampling [480253, 20607]\n",
      "After Resampling [82222, 81128]\n"
     ]
    }
   ],
   "source": [
    "size_max = [len(id_toTrain[i]) for i in range(nb_class)]\n",
    "print(\"Before Resampling\", size_max)\n",
    "\n",
    "blc = 800\n",
    "for i in range(len(size_max)):\n",
    "    if size_max[i] > blc:\n",
    "        size_max[i] = int(blc*(np.log10(size_max[i]/blc)+100))\n",
    "    else:\n",
    "        size_max[i] = int(blc/(np.log10(blc/size_max[i])+0.05))\n",
    "        \n",
    "print(\"After Resampling\", size_max)"
   ]
  },
  {
   "cell_type": "code",
   "execution_count": 97,
   "metadata": {},
   "outputs": [
    {
     "name": "stdout",
     "output_type": "stream",
     "text": [
      "Counter({0: 106222, 1: 105128})\n"
     ]
    }
   ],
   "source": [
    "for i in range(nb_class):\n",
    "    if len(id_toTrain[i]) > size_max[i]:\n",
    "        id_toTrain[i], tmp = train_test_split(id_toTrain[i], test_size=1-size_max[i]/len(id_toTrain[i]))\n",
    "    else:\n",
    "        id_toTrain[i] = np.concatenate((id_toTrain[i], id_toTrain[i][np.random.randint(len(id_toTrain[i]), size=int(size_max[i]-len(id_toTrain[i])))]))\n",
    "id_toTrain = np.concatenate(id_toTrain)\n",
    "X_train = X_train[id_toTrain]\n",
    "y_train = y_train[id_toTrain]\n",
    "\n",
    "print(Counter(y_train))"
   ]
  },
  {
   "cell_type": "code",
   "execution_count": 119,
   "metadata": {},
   "outputs": [],
   "source": [
    "X_train = pd.DataFrame(X_train)\n",
    "X_test = pd.DataFrame(X_test)\n",
    "X_train.columns = ['type', 'votes', 'content', 'member', 'category', 'state', 'is_solved', 'num_answers', 'country', 'duration']\n",
    "X_test.columns = ['type', 'votes', 'content', 'member', 'category', 'state', 'is_solved', 'num_answers', 'country', 'duration']"
   ]
  },
  {
   "cell_type": "markdown",
   "metadata": {},
   "source": [
    "# 4. Modelling"
   ]
  },
  {
   "cell_type": "markdown",
   "metadata": {},
   "source": [
    "### Xgboost"
   ]
  },
  {
   "cell_type": "code",
   "execution_count": 122,
   "metadata": {},
   "outputs": [],
   "source": [
    "xgb = XGBClassifier(\n",
    "    learning_rate=0.1, max_depth=5,\n",
    "    min_child_weight=10, min_samples_leaf=5, min_samples_split=5,\n",
    "    n_estimators=50, objective='binary:logistic')\n",
    "\n",
    "xgb.fit(X_train, y_train)\n",
    "y_pred_xgb = xgb.predict(X_test)\n",
    "y_pred_prob_xgb = xgb.predict_proba(X_test)[:,0]"
   ]
  },
  {
   "cell_type": "code",
   "execution_count": 123,
   "metadata": {},
   "outputs": [
    {
     "name": "stdout",
     "output_type": "stream",
     "text": [
      "ROC-AUC 0.8397378131421696\n",
      "Confusion Matrix\n",
      "              precision    recall  f1-score   support\n",
      "\n",
      "           0       0.99      0.99      0.99    205824\n",
      "           1       0.85      0.68      0.76      8832\n",
      "\n",
      "    accuracy                           0.98    214656\n",
      "   macro avg       0.92      0.84      0.87    214656\n",
      "weighted avg       0.98      0.98      0.98    214656\n",
      "\n"
     ]
    }
   ],
   "source": [
    "print(\"ROC-AUC\", roc_auc_score(y_test, y_pred_xgb))\n",
    "print(\"Confusion Matrix\")\n",
    "print(classification_report(y_test, y_pred_xgb))"
   ]
  },
  {
   "cell_type": "code",
   "execution_count": 155,
   "metadata": {},
   "outputs": [
    {
     "data": {
      "image/png": "[encoded data removed]",
      "text/plain": [
       "<Figure size 720x576 with 1 Axes>"
      ]
     },
     "metadata": {
      "needs_background": "light"
     },
     "output_type": "display_data"
    }
   ],
   "source": [
    "fig, ax = plt.subplots(figsize=(10, 8))\n",
    "ax = plot_importance(xgb, importance_type = 'weight', max_num_features=10, ax=ax)\n",
    "plt.rc('font', size=15)\n",
    "plt.show()"
   ]
  },
  {
   "cell_type": "code",
   "execution_count": 164,
   "metadata": {},
   "outputs": [
    {
     "data": {
      "image/png": "[encoded data removed]",
      "text/plain": [
       "<Figure size 720x576 with 1 Axes>"
      ]
     },
     "metadata": {
      "needs_background": "light"
     },
     "output_type": "display_data"
    },
    {
     "data": {
      "image/png": "[encoded data removed]",
      "text/plain": [
       "<Figure size 720x576 with 1 Axes>"
      ]
     },
     "metadata": {
      "needs_background": "light"
     },
     "output_type": "display_data"
    },
    {
     "data": {
      "text/plain": [
       "<sklearn.metrics._plot.roc_curve.RocCurveDisplay at 0x1b0ca4050>"
      ]
     },
     "execution_count": 164,
     "metadata": {},
     "output_type": "execute_result"
    },
    {
     "data": {
      "image/png": "[encoded data removed]",
      "text/plain": [
       "<Figure size 720x576 with 1 Axes>"
      ]
     },
     "metadata": {
      "needs_background": "light"
     },
     "output_type": "display_data"
    }
   ],
   "source": [
    "eval_set = [(X_train, y_train), (X_test, y_test)]\n",
    "xgb.fit(X_train, y_train, eval_metric=[\"error\",\"logloss\"], eval_set=eval_set, verbose=0)\n",
    "results = xgb.evals_result()\n",
    "epochs = len(results['validation_0']['error'])\n",
    "x_axis = range(0, epochs)\n",
    "\n",
    "# plot log loss\n",
    "fig, ax = plt.subplots(figsize=(10, 8))\n",
    "ax.plot(x_axis, results['validation_0']['logloss'], label='Train')\n",
    "ax.plot(x_axis, results['validation_1']['logloss'], label='Test')\n",
    "ax.legend()\n",
    "plt.ylabel('Log Loss')\n",
    "plt.title('XGBoost Log Loss')\n",
    "plt.rc('font', size=15)\n",
    "plt.show()\n",
    "\n",
    "# plot classification error\n",
    "fig, ax = plt.subplots(figsize=(10, 8))\n",
    "ax.plot(x_axis, results['validation_0']['error'], label='Train')\n",
    "ax.plot(x_axis, results['validation_1']['error'], label='Test')\n",
    "ax.legend()\n",
    "plt.ylabel('Classification Error')\n",
    "plt.title('XGBoost Classification Error')\n",
    "plt.rc('font', size=15)\n",
    "plt.show()\n",
    "\n",
    "# plot ROC-AUC curve\n",
    "plt.subplots(1, 1, figsize=(10, 8))\n",
    "ax = plt.subplot(1,1,1)\n",
    "plt.title('ROC-AUC Curve')\n",
    "plt.rc('font', size=15)\n",
    "plot_roc_curve(xgb, X_test, y_test, ax=ax)"
   ]
  },
  {
   "cell_type": "markdown",
   "metadata": {},
   "source": [
    "### Neural Network"
   ]
  },
  {
   "cell_type": "code",
   "execution_count": 142,
   "metadata": {},
   "outputs": [],
   "source": [
    "nn = Sequential()\n",
    "nn.add(Dense(1, input_shape=(10,), activation='sigmoid'))\n",
    "sgd = optimizers.SGD(lr=0.5) # learning rate\n",
    "nn.compile(loss='mse', optimizer='adam', metrics=['accuracy'])"
   ]
  },
  {
   "cell_type": "code",
   "execution_count": 143,
   "metadata": {},
   "outputs": [
    {
     "data": {
      "text/plain": [
       "<tensorflow.python.keras.callbacks.History at 0x1ab571650>"
      ]
     },
     "execution_count": 143,
     "metadata": {},
     "output_type": "execute_result"
    }
   ],
   "source": [
    "nn.fit(X_train, y_train, batch_size=25, epochs=1, verbose=0)"
   ]
  },
  {
   "cell_type": "code",
   "execution_count": 144,
   "metadata": {},
   "outputs": [
    {
     "name": "stdout",
     "output_type": "stream",
     "text": [
      "Test Loss, Test Accuracy: [0.07971669478951712, 0.92026776]\n"
     ]
    }
   ],
   "source": [
    "y_pred_nn = nn.predict(X_test).ravel()\n",
    "results = nn.evaluate(X_test, y_test, batch_size=128, verbose=0)\n",
    "print('Test Loss, Test Accuracy:', results)"
   ]
  },
  {
   "cell_type": "markdown",
   "metadata": {},
   "source": [
    "## Achieved 92% Accuracy with 0.08 MSE !!!"
   ]
  }
 ],
 "metadata": {
  "kernelspec": {
   "display_name": "Python 3",
   "language": "python",
   "name": "python3"
  },
  "language_info": {
   "codemirror_mode": {
    "name": "ipython",
    "version": 3
   },
   "file_extension": ".py",
   "mimetype": "text/x-python",
   "name": "python",
   "nbconvert_exporter": "python",
   "pygments_lexer": "ipython3",
   "version": "3.7.4"
  }
 },
 "nbformat": 4,
 "nbformat_minor": 2
}
